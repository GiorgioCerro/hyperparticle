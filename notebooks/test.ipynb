{
 "cells": [
  {
   "cell_type": "markdown",
   "metadata": {},
   "source": [
    "## Tutorial: how to import the data and visualise them"
   ]
  },
  {
   "cell_type": "code",
   "execution_count": null,
   "metadata": {},
   "outputs": [],
   "source": [
    "import numpy as np\n",
    "import networkx as nx\n",
    "import pandas as pd\n",
    "import random\n",
    "from tqdm import tqdm\n",
    "from hyperparticle.data_handler import ParticleDataset, OneSet\n",
    "\n",
    "import ot\n",
    "import graphicle as gcl\n",
    "\n",
    "import matplotlib.pyplot as plt\n",
    "from matplotlib.patches import Circle,ConnectionPatch\n",
    "\n",
    "#helper functions for plots\n",
    "from hyperparticle.utils.visualisation import plot_geodesic, get_colors, hard_descendants\n",
    "from hyperparticle.utils.metrics import sqdist, distance_matrix, precision_and_recall, mAP\n",
    "\n",
    "from jupyterthemes import jtplot\n",
    "jtplot.style(theme='oceans16')"
   ]
  },
  {
   "cell_type": "markdown",
   "metadata": {},
   "source": [
    "## The dataset\n",
    "\n",
    "The dataset is structured as a Pytorch dataset. The two inputs are the path for the data directory and the signal name (this depends on the physics event we are interested in and it is chosen once the data is generated).\n",
    "\n",
    "The dataset spits each event as dictionary which contains a graphicle object and a hyperbolic coordinates array for each of the algorithm tree (AntiKt, CA and Kt) and for the MC truth."
   ]
  },
  {
   "cell_type": "code",
   "execution_count": null,
   "metadata": {},
   "outputs": [],
   "source": [
    "dataset = ParticleDataset('../data/jet_tagging/train_sig/')\n",
    "event = dataset[4]"
   ]
  },
  {
   "cell_type": "code",
   "execution_count": null,
   "metadata": {},
   "outputs": [],
   "source": [
    "event.keys()"
   ]
  },
  {
   "cell_type": "code",
   "execution_count": null,
   "metadata": {},
   "outputs": [],
   "source": [
    "fig,ax = plt.subplots(1,3,figsize=(15,5))\n",
    "ax = ax.flatten()\n",
    "\n",
    "keys = [k for k in event.keys()]\n",
    "titles = ['Anti-Kt tree', 'CA tree', 'Kt tree',]\n",
    "for k in range(1, 6, 2):\n",
    "    i = k//2\n",
    "    graph, hyp = event[keys[k]], event[keys[k+1]]\n",
    "    graph, hyp = event[keys[k]], event[keys[k+1]]\n",
    "    \n",
    "    G = nx.Graph()\n",
    "    G.add_edges_from(graph.edges)\n",
    "    nodes = np.array(G.nodes())\n",
    "    mapping = {nodes[i]: i for i in range(len(nodes))}\n",
    "    G = nx.relabel_nodes(G, mapping)\n",
    "    nodes = np.array(G.nodes())\n",
    "    for edge in G.edges:\n",
    "        start = np.where(nodes == edge[0])[0][0]\n",
    "        end = np.where(nodes == edge[1])[0][0]\n",
    "        x0,y0 = hyp[start]\n",
    "        x1,y1 = hyp[end]\n",
    "        #ax.plot([x0,x1],[y0,y1],alpha=0.1,color='black')\n",
    "        plot_geodesic(hyp[start],hyp[end],ax[i])\n",
    "\n",
    "    ax[i].scatter(hyp[:,0], hyp[:,1], c='orange', s=150, alpha=0.6)\n",
    "    \n",
    "    disk = Circle((0,0),1,color='white',alpha=0.1)#fill=False)\n",
    "    ax[i].add_patch(disk)\n",
    "    ax[i].set_xlim(-1.05,1.05)\n",
    "    ax[i].set_ylim(-1.05,1.05)\n",
    "    ax[i].set_title(titles[i])\n",
    "\n",
    "plt.show()\n",
    "#plt.savefig('example.png')"
   ]
  },
  {
   "cell_type": "code",
   "execution_count": null,
   "metadata": {},
   "outputs": [],
   "source": []
  },
  {
   "cell_type": "code",
   "execution_count": null,
   "metadata": {},
   "outputs": [],
   "source": []
  }
 ],
 "metadata": {
  "kernelspec": {
   "display_name": "Python 3 (ipykernel)",
   "language": "python",
   "name": "python3"
  },
  "language_info": {
   "codemirror_mode": {
    "name": "ipython",
    "version": 3
   },
   "file_extension": ".py",
   "mimetype": "text/x-python",
   "name": "python",
   "nbconvert_exporter": "python",
   "pygments_lexer": "ipython3",
   "version": "3.9.7"
  }
 },
 "nbformat": 4,
 "nbformat_minor": 4
}
